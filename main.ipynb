{
 "cells": [
  {
   "cell_type": "code",
   "execution_count": 1,
   "metadata": {},
   "outputs": [],
   "source": [
    "from DockerService import DockerService\n",
    "from DockerStack import DockerStack\n",
    "import os"
   ]
  },
  {
   "cell_type": "code",
   "execution_count": 2,
   "metadata": {},
   "outputs": [],
   "source": [
    "stacksDir = \"./stacks-copy/\"\n",
    "stackFiles = os.listdir(stacksDir)\n",
    "stackFiles = [stack for stack in stackFiles if stack.endswith(\".yml\") or stack.endswith(\".yaml\")]"
   ]
  },
  {
   "cell_type": "code",
   "execution_count": 6,
   "metadata": {},
   "outputs": [
    {
     "data": {
      "text/plain": [
       "{'version': '3.2',\n",
       " 'services': {'fr24feed': {'image': 'ghcr.io/sdr-enthusiasts/docker-flightradar24:latest',\n",
       "   'labels': ['docker2mqtt.enable=false'],\n",
       "   'tty': True,\n",
       "   'depends_on': ['readsb'],\n",
       "   'ports': ['8754:8754'],\n",
       "   'deploy': {'placement': {'constraints': ['node.role == worker']}},\n",
       "   'environment': ['TZ=\"Europe/London\"',\n",
       "    'BEASTHOST=rpi1',\n",
       "    'MLAT=no',\n",
       "    'FR24KEY=bee22d13e2844e8e']},\n",
       "  'adsbexchange': {'image': 'ghcr.io/sdr-enthusiasts/docker-adsbexchange:latest',\n",
       "   'deploy': {'placement': {'constraints': ['node.role == worker']}},\n",
       "   'tty': True,\n",
       "   'depends_on': ['readsb'],\n",
       "   'environment': ['BEASTHOST=rpi1',\n",
       "    'TZ=Europe/London',\n",
       "    'LAT=55.9328',\n",
       "    'LONG=-3.1642',\n",
       "    'ALT=80m',\n",
       "    'SITENAME=Edinburgh',\n",
       "    'UUID=71ac381e-9940-11ec-bdd0-0242ac110003'],\n",
       "   'tmpfs': ['/run:rw,nosuid,nodev,exec,relatime,size=64M,uid=1000,gid=1000']}}}"
      ]
     },
     "execution_count": 6,
     "metadata": {},
     "output_type": "execute_result"
    }
   ],
   "source": [
    "stack = DockerStack('airplanes', stacksDir + 'airplanes.yml')\n",
    "stack.getServices()\n",
    "stack.stack"
   ]
  },
  {
   "cell_type": "code",
   "execution_count": 8,
   "metadata": {},
   "outputs": [
    {
     "data": {
      "text/plain": [
       "False"
      ]
     },
     "execution_count": 8,
     "metadata": {},
     "output_type": "execute_result"
    }
   ],
   "source": [
    "eval(\"False\")"
   ]
  }
 ],
 "metadata": {
  "kernelspec": {
   "display_name": "Python 3.9.12 ('base')",
   "language": "python",
   "name": "python3"
  },
  "language_info": {
   "codemirror_mode": {
    "name": "ipython",
    "version": 3
   },
   "file_extension": ".py",
   "mimetype": "text/x-python",
   "name": "python",
   "nbconvert_exporter": "python",
   "pygments_lexer": "ipython3",
   "version": "3.9.12"
  },
  "orig_nbformat": 4,
  "vscode": {
   "interpreter": {
    "hash": "e8fac7edbe3fc3ee8dc4af7fb9891cac1e2a78a800a1446a0d4fe2e2c052a0fd"
   }
  }
 },
 "nbformat": 4,
 "nbformat_minor": 2
}
